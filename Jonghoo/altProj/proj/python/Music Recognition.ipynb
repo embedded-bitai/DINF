{
 "cells": [
  {
   "cell_type": "code",
   "execution_count": 2,
   "metadata": {
    "scrolled": true
   },
   "outputs": [],
   "source": [
    "# feature extractoring and preprocessing data\n",
    "# 음원 데이터를 분석\n",
    "import librosa\n",
    "\n",
    "import pandas as pd\n",
    "import numpy as np\n",
    "import matplotlib.pyplot as plt\n",
    "\n",
    "# notebook을 실행한 브라우저에서 바로 그림을 볼 수 있게 해주는 것\n",
    "%matplotlib inline\n",
    "\n",
    "# 운영체제와의 상호작용을 돕는 다양한 기능을 제공\n",
    "# 1. 현재 디렉토리 확인하기\n",
    "# 2. 디렉토리 변경\n",
    "# 3. 현재 디렉토리의 파일 목록 확인하기\n",
    "# 4. csv 파일 호출\n",
    "import os\n",
    "\n",
    "# 파이썬에서의 이미지 처리\n",
    "from PIL import Image\n",
    "\n",
    "import pathlib\n",
    "import csv\n",
    "\n",
    "# Preprocessing\n",
    "from sklearn.model_selection import train_test_split\n",
    "from sklearn.preprocessing import LabelEncoder, StandardScaler\n",
    "from sklearn.metrics import mean_squared_error\n",
    "\n",
    "#Keras\n",
    "import keras\n",
    "\n",
    "# 경고 메시지를 무시하고 숨기거나  -> warnings.filterwarnings(action='ignore')\n",
    "# 일치하는 경고를 인쇄하지 않습니다 = ('ignore')\n",
    "import warnings\n",
    "warnings.filterwarnings('ignore')"
   ]
  },
  {
   "cell_type": "code",
   "execution_count": 3,
   "metadata": {},
   "outputs": [
    {
     "output_type": "display_data",
     "data": {
      "text/plain": "<Figure size 720x720 with 0 Axes>"
     },
     "metadata": {}
    }
   ],
   "source": [
    "# 원하는 종류의 색깔만 넘겨주는 것\n",
    "cmap = plt.get_cmap('inferno')\n",
    "\n",
    "plt.figure(figsize=(10,10))\n",
    "genres = 'blues classical country disco hiphop jazz metal pop reggae rock'.split()\n",
    "for g in genres:\n",
    "    pathlib.Path(f'img_data/{g}').mkdir(parents=True, exist_ok=True)     \n",
    "    for filename in os.listdir(f'./MIR/genres/{g}'):\n",
    "        songname = f'./MIR/genres/{g}/{filename}'\n",
    "        y, sr = librosa.load(songname, mono=True, duration=5)\n",
    "        plt.specgram(y, NFFT=2048, Fs=2, Fc=0, noverlap=128, cmap=cmap, sides='default', mode='default', scale='dB');\n",
    "        plt.axis('off');\n",
    "        plt.savefig(f'img_data/{g}/{filename[:-3].replace(\".\", \"\")}.png')\n",
    "        plt.clf()"
   ]
  },
  {
   "cell_type": "code",
   "execution_count": 4,
   "metadata": {},
   "outputs": [],
   "source": [
    "header = 'filename chroma_stft rmse spectral_centroid spectral_bandwidth rolloff zero_crossing_rate'\n",
    "for i in range(1, 21):\n",
    "    header += f' mfcc{i}'\n",
    "header += ' label'\n",
    "header = header.split()"
   ]
  },
  {
   "cell_type": "code",
   "execution_count": 5,
   "metadata": {},
   "outputs": [],
   "source": [
    "file = open('data.csv', 'w', newline='')\n",
    "with file:\n",
    "    writer = csv.writer(file)\n",
    "    writer.writerow(header)\n",
    "genres = 'blues classical country disco hiphop jazz metal pop reggae rock'.split()\n",
    "for g in genres:\n",
    "    for filename in os.listdir(f'./MIR/genres/{g}'):\n",
    "        songname = f'./MIR/genres/{g}/{filename}'\n",
    "        y, sr = librosa.load(songname, mono=True, duration=30)\n",
    "        chroma_stft = librosa.feature.chroma_stft(y=y, sr=sr)\n",
    "        spec_cent = librosa.feature.spectral_centroid(y=y, sr=sr)\n",
    "        spec_bw = librosa.feature.spectral_bandwidth(y=y, sr=sr)\n",
    "        rolloff = librosa.feature.spectral_rolloff(y=y, sr=sr)\n",
    "        zcr = librosa.feature.zero_crossing_rate(y)\n",
    "        mfcc = librosa.feature.mfcc(y=y, sr=sr)\n",
    "        #rmse = mean_squared_error(y, y_pred=sr)**0.5\n",
    "        rmse = librosa.feature.rms(y=y)\n",
    "        to_append = f'{filename} {np.mean(chroma_stft)} {np.mean(rmse)} {np.mean(spec_cent)} {np.mean(spec_bw)} {np.mean(rolloff)} {np.mean(zcr)}'    \n",
    "        for e in mfcc:\n",
    "            to_append += f' {np.mean(e)}'\n",
    "        to_append += f' {g}'\n",
    "        file = open('data.csv', 'a', newline='')\n",
    "        with file:\n",
    "            writer = csv.writer(file)\n",
    "            writer.writerow(to_append.split())"
   ]
  },
  {
   "cell_type": "code",
   "execution_count": 6,
   "metadata": {},
   "outputs": [],
   "source": [
    "# mfcc = 오디오 신호에서 추출할 수 있는 feature로, 소리의 고유한 특징을 나타내는 수치\n",
    "#      = 등록된 음성과 현재 입력된 음성의 유사도를 판별하는 근거의 일부로 쓰입니다.\n",
    "#      = MFCC(Mel-Frequency Cepstral Coefficient)는\n",
    "#        Mel Spectrum(멜 스펙트럼)에서 Cepstral(켑스트럴) 분석을 통해 추출된 값\n",
    "#      \n",
    "# 이해하기 위해 먼저 \n",
    "# -  Spectrum(스펙트럼)\n",
    "# -  Cepstrum(켑스트럼)\n",
    "# -  Mel Spectrum(멜 스펙트럼)  들을 알아야 한다."
   ]
  },
  {
   "cell_type": "code",
   "execution_count": 7,
   "metadata": {},
   "outputs": [
    {
     "output_type": "execute_result",
     "data": {
      "text/plain": [
       "          filename  chroma_stft      rmse  spectral_centroid  \\\n",
       "0  blues.00093.wav     0.377690  0.065906         569.930721   \n",
       "1  blues.00087.wav     0.336773  0.158098        1442.190271   \n",
       "2  blues.00050.wav     0.400860  0.182380        1945.848425   \n",
       "3  blues.00044.wav     0.390212  0.136276        2279.124558   \n",
       "4  blues.00078.wav     0.414188  0.258052        2333.685108   \n",
       "\n",
       "   spectral_bandwidth      rolloff  zero_crossing_rate       mfcc1  \\\n",
       "0          995.407125   927.427725            0.021701 -350.436188   \n",
       "1         1870.534155  3083.414688            0.050889 -155.504929   \n",
       "2         2082.246626  4175.874749            0.085806  -82.979019   \n",
       "3         2375.102120  5198.360233            0.092570 -109.509285   \n",
       "4         2227.425609  4942.811778            0.123863   -2.524338   \n",
       "\n",
       "        mfcc2      mfcc3  ...     mfcc12     mfcc13    mfcc14     mfcc15  \\\n",
       "0  169.545746  31.820370  ...   1.821690  -5.970891 -5.259567  -0.229211   \n",
       "1  125.638863   1.596553  ...  -0.792893  -7.748057  0.413548  -7.030263   \n",
       "2  107.052124 -25.320452  ...  12.539581  -9.762303  2.562253  -6.300853   \n",
       "3   86.922409  -8.607986  ...  11.087481  -5.085794  3.976360 -12.859742   \n",
       "4  101.252716 -33.924385  ...  12.506608 -13.368822  6.112817  -9.065890   \n",
       "\n",
       "      mfcc16     mfcc17    mfcc18    mfcc19    mfcc20  label  \n",
       "0  -1.776850  -3.713751  0.181591  2.072390 -2.896225  blues  \n",
       "1   3.997679  -6.256611  0.958227  2.019821 -5.742188  blues  \n",
       "2   2.996785  -8.718455 -0.326581 -2.980347  0.712600  blues  \n",
       "3  12.343859   0.026216 -0.741568 -5.126620  3.303442  blues  \n",
       "4   5.033774 -11.330277  3.166534 -4.567591 -4.033623  blues  \n",
       "\n",
       "[5 rows x 28 columns]"
      ],
      "text/html": "<div>\n<style scoped>\n    .dataframe tbody tr th:only-of-type {\n        vertical-align: middle;\n    }\n\n    .dataframe tbody tr th {\n        vertical-align: top;\n    }\n\n    .dataframe thead th {\n        text-align: right;\n    }\n</style>\n<table border=\"1\" class=\"dataframe\">\n  <thead>\n    <tr style=\"text-align: right;\">\n      <th></th>\n      <th>filename</th>\n      <th>chroma_stft</th>\n      <th>rmse</th>\n      <th>spectral_centroid</th>\n      <th>spectral_bandwidth</th>\n      <th>rolloff</th>\n      <th>zero_crossing_rate</th>\n      <th>mfcc1</th>\n      <th>mfcc2</th>\n      <th>mfcc3</th>\n      <th>...</th>\n      <th>mfcc12</th>\n      <th>mfcc13</th>\n      <th>mfcc14</th>\n      <th>mfcc15</th>\n      <th>mfcc16</th>\n      <th>mfcc17</th>\n      <th>mfcc18</th>\n      <th>mfcc19</th>\n      <th>mfcc20</th>\n      <th>label</th>\n    </tr>\n  </thead>\n  <tbody>\n    <tr>\n      <th>0</th>\n      <td>blues.00093.wav</td>\n      <td>0.377690</td>\n      <td>0.065906</td>\n      <td>569.930721</td>\n      <td>995.407125</td>\n      <td>927.427725</td>\n      <td>0.021701</td>\n      <td>-350.436188</td>\n      <td>169.545746</td>\n      <td>31.820370</td>\n      <td>...</td>\n      <td>1.821690</td>\n      <td>-5.970891</td>\n      <td>-5.259567</td>\n      <td>-0.229211</td>\n      <td>-1.776850</td>\n      <td>-3.713751</td>\n      <td>0.181591</td>\n      <td>2.072390</td>\n      <td>-2.896225</td>\n      <td>blues</td>\n    </tr>\n    <tr>\n      <th>1</th>\n      <td>blues.00087.wav</td>\n      <td>0.336773</td>\n      <td>0.158098</td>\n      <td>1442.190271</td>\n      <td>1870.534155</td>\n      <td>3083.414688</td>\n      <td>0.050889</td>\n      <td>-155.504929</td>\n      <td>125.638863</td>\n      <td>1.596553</td>\n      <td>...</td>\n      <td>-0.792893</td>\n      <td>-7.748057</td>\n      <td>0.413548</td>\n      <td>-7.030263</td>\n      <td>3.997679</td>\n      <td>-6.256611</td>\n      <td>0.958227</td>\n      <td>2.019821</td>\n      <td>-5.742188</td>\n      <td>blues</td>\n    </tr>\n    <tr>\n      <th>2</th>\n      <td>blues.00050.wav</td>\n      <td>0.400860</td>\n      <td>0.182380</td>\n      <td>1945.848425</td>\n      <td>2082.246626</td>\n      <td>4175.874749</td>\n      <td>0.085806</td>\n      <td>-82.979019</td>\n      <td>107.052124</td>\n      <td>-25.320452</td>\n      <td>...</td>\n      <td>12.539581</td>\n      <td>-9.762303</td>\n      <td>2.562253</td>\n      <td>-6.300853</td>\n      <td>2.996785</td>\n      <td>-8.718455</td>\n      <td>-0.326581</td>\n      <td>-2.980347</td>\n      <td>0.712600</td>\n      <td>blues</td>\n    </tr>\n    <tr>\n      <th>3</th>\n      <td>blues.00044.wav</td>\n      <td>0.390212</td>\n      <td>0.136276</td>\n      <td>2279.124558</td>\n      <td>2375.102120</td>\n      <td>5198.360233</td>\n      <td>0.092570</td>\n      <td>-109.509285</td>\n      <td>86.922409</td>\n      <td>-8.607986</td>\n      <td>...</td>\n      <td>11.087481</td>\n      <td>-5.085794</td>\n      <td>3.976360</td>\n      <td>-12.859742</td>\n      <td>12.343859</td>\n      <td>0.026216</td>\n      <td>-0.741568</td>\n      <td>-5.126620</td>\n      <td>3.303442</td>\n      <td>blues</td>\n    </tr>\n    <tr>\n      <th>4</th>\n      <td>blues.00078.wav</td>\n      <td>0.414188</td>\n      <td>0.258052</td>\n      <td>2333.685108</td>\n      <td>2227.425609</td>\n      <td>4942.811778</td>\n      <td>0.123863</td>\n      <td>-2.524338</td>\n      <td>101.252716</td>\n      <td>-33.924385</td>\n      <td>...</td>\n      <td>12.506608</td>\n      <td>-13.368822</td>\n      <td>6.112817</td>\n      <td>-9.065890</td>\n      <td>5.033774</td>\n      <td>-11.330277</td>\n      <td>3.166534</td>\n      <td>-4.567591</td>\n      <td>-4.033623</td>\n      <td>blues</td>\n    </tr>\n  </tbody>\n</table>\n<p>5 rows × 28 columns</p>\n</div>"
     },
     "metadata": {},
     "execution_count": 7
    }
   ],
   "source": [
    "data = pd.read_csv('data.csv')\n",
    "data.head()\n",
    "\n",
    "# chroma_stft = 채도_? , 크로마 표준\n",
    "# spectral_centroid = 스펙트럼 중심\n",
    "# spectral_bandwidth = 스펙트럼 대역폭\n",
    "# rolloff = 롤 오프\n",
    "# zero_crossing_rate = 제로 크로싱 비율\n",
    "#        \n",
    "# mfcc[n] = "
   ]
  },
  {
   "cell_type": "code",
   "execution_count": 8,
   "metadata": {},
   "outputs": [
    {
     "output_type": "execute_result",
     "data": {
      "text/plain": [
       "(1000, 28)"
      ]
     },
     "metadata": {},
     "execution_count": 8
    }
   ],
   "source": [
    "data.shape"
   ]
  },
  {
   "cell_type": "code",
   "execution_count": 9,
   "metadata": {},
   "outputs": [],
   "source": [
    "# Dropping unneccesary columns\n",
    "data = data.drop(['filename'],axis=1)"
   ]
  },
  {
   "cell_type": "code",
   "execution_count": 10,
   "metadata": {},
   "outputs": [],
   "source": [
    "genre_list = data.iloc[:, -1]\n",
    "encoder = LabelEncoder()\n",
    "y = encoder.fit_transform(genre_list)"
   ]
  },
  {
   "cell_type": "code",
   "execution_count": 11,
   "metadata": {},
   "outputs": [],
   "source": [
    "scaler = StandardScaler()\n",
    "X = scaler.fit_transform(np.array(data.iloc[:, :-1], dtype = float))"
   ]
  },
  {
   "cell_type": "code",
   "execution_count": 12,
   "metadata": {},
   "outputs": [],
   "source": [
    "X_train, X_test, y_train, y_test = train_test_split(X, y, test_size=0.2)"
   ]
  },
  {
   "cell_type": "code",
   "execution_count": 13,
   "metadata": {},
   "outputs": [
    {
     "output_type": "execute_result",
     "data": {
      "text/plain": [
       "800"
      ]
     },
     "metadata": {},
     "execution_count": 13
    }
   ],
   "source": [
    "len(y_train)"
   ]
  },
  {
   "cell_type": "code",
   "execution_count": 14,
   "metadata": {},
   "outputs": [
    {
     "output_type": "execute_result",
     "data": {
      "text/plain": [
       "200"
      ]
     },
     "metadata": {},
     "execution_count": 14
    }
   ],
   "source": [
    "len(y_test)"
   ]
  },
  {
   "cell_type": "code",
   "execution_count": 15,
   "metadata": {},
   "outputs": [
    {
     "output_type": "execute_result",
     "data": {
      "text/plain": [
       "array([ 1.20479352,  1.42609825,  0.96082301,  0.18085232,  0.58058547,\n",
       "        1.74517674,  1.53839082, -0.74177591, -1.03017517,  1.23524868,\n",
       "       -1.60298213,  1.06466264, -1.15759201,  0.88320942, -0.8348293 ,\n",
       "        1.50334749, -1.47161995,  1.93763887, -1.32057984,  1.98280542,\n",
       "       -1.49915185,  0.94407189, -1.0132643 ,  0.92919344, -0.55400392,\n",
       "        2.58643577])"
      ]
     },
     "metadata": {},
     "execution_count": 15
    }
   ],
   "source": [
    "X_train[10]"
   ]
  },
  {
   "cell_type": "code",
   "execution_count": 16,
   "metadata": {},
   "outputs": [],
   "source": [
    "from keras import models\n",
    "from keras import layers\n",
    "\n",
    "model = models.Sequential()\n",
    "model.add(layers.Dense(256, activation='relu', input_shape=(X_train.shape[1],)))\n",
    "\n",
    "model.add(layers.Dense(128, activation='relu'))\n",
    "\n",
    "model.add(layers.Dense(64, activation='relu'))\n",
    "\n",
    "model.add(layers.Dense(10, activation='softmax'))"
   ]
  },
  {
   "cell_type": "code",
   "execution_count": 17,
   "metadata": {},
   "outputs": [],
   "source": [
    "model.compile(optimizer='adam',\n",
    "              loss='sparse_categorical_crossentropy',\n",
    "              metrics=['accuracy'])"
   ]
  },
  {
   "cell_type": "code",
   "execution_count": 18,
   "metadata": {
    "scrolled": true
   },
   "outputs": [
    {
     "output_type": "stream",
     "name": "stdout",
     "text": [
      "Epoch 1/20\n",
      "7/7 [==============================] - 0s 1ms/step - loss: 2.1593 - accuracy: 0.2225\n",
      "Epoch 2/20\n",
      "7/7 [==============================] - 0s 1ms/step - loss: 1.8677 - accuracy: 0.3600\n",
      "Epoch 3/20\n",
      "7/7 [==============================] - 0s 1ms/step - loss: 1.6634 - accuracy: 0.3875\n",
      "Epoch 4/20\n",
      "7/7 [==============================] - 0s 1ms/step - loss: 1.4925 - accuracy: 0.4700\n",
      "Epoch 5/20\n",
      "7/7 [==============================] - 0s 1ms/step - loss: 1.3520 - accuracy: 0.5312\n",
      "Epoch 6/20\n",
      "7/7 [==============================] - 0s 2ms/step - loss: 1.2259 - accuracy: 0.5775\n",
      "Epoch 7/20\n",
      "7/7 [==============================] - 0s 1ms/step - loss: 1.1374 - accuracy: 0.6137\n",
      "Epoch 8/20\n",
      "7/7 [==============================] - 0s 1ms/step - loss: 1.0477 - accuracy: 0.6662\n",
      "Epoch 9/20\n",
      "7/7 [==============================] - 0s 1ms/step - loss: 0.9816 - accuracy: 0.6900\n",
      "Epoch 10/20\n",
      "7/7 [==============================] - 0s 2ms/step - loss: 0.9223 - accuracy: 0.6963\n",
      "Epoch 11/20\n",
      "7/7 [==============================] - 0s 1ms/step - loss: 0.8669 - accuracy: 0.7337\n",
      "Epoch 12/20\n",
      "7/7 [==============================] - 0s 1ms/step - loss: 0.8235 - accuracy: 0.7400\n",
      "Epoch 13/20\n",
      "7/7 [==============================] - 0s 1ms/step - loss: 0.7854 - accuracy: 0.7513\n",
      "Epoch 14/20\n",
      "7/7 [==============================] - 0s 1ms/step - loss: 0.7287 - accuracy: 0.7725\n",
      "Epoch 15/20\n",
      "7/7 [==============================] - 0s 1ms/step - loss: 0.6986 - accuracy: 0.7862\n",
      "Epoch 16/20\n",
      "7/7 [==============================] - 0s 1ms/step - loss: 0.6633 - accuracy: 0.7912\n",
      "Epoch 17/20\n",
      "7/7 [==============================] - 0s 1ms/step - loss: 0.6415 - accuracy: 0.7962\n",
      "Epoch 18/20\n",
      "7/7 [==============================] - 0s 1ms/step - loss: 0.6192 - accuracy: 0.8037\n",
      "Epoch 19/20\n",
      "7/7 [==============================] - 0s 1ms/step - loss: 0.5808 - accuracy: 0.8213\n",
      "Epoch 20/20\n",
      "7/7 [==============================] - 0s 1ms/step - loss: 0.5416 - accuracy: 0.8375\n"
     ]
    }
   ],
   "source": [
    "history = model.fit(X_train,\n",
    "                    y_train,\n",
    "                    epochs=20,\n",
    "                    batch_size=128)"
   ]
  },
  {
   "cell_type": "code",
   "execution_count": 19,
   "metadata": {},
   "outputs": [
    {
     "output_type": "stream",
     "name": "stdout",
     "text": [
      "7/7 [==============================] - 0s 728us/step - loss: 0.8820 - accuracy: 0.7100\n"
     ]
    }
   ],
   "source": [
    "test_loss, test_acc = model.evaluate(X_test,y_test)"
   ]
  },
  {
   "cell_type": "code",
   "execution_count": 20,
   "metadata": {},
   "outputs": [
    {
     "output_type": "stream",
     "name": "stdout",
     "text": [
      "test_acc:  0.7099999785423279\n"
     ]
    }
   ],
   "source": [
    "print('test_acc: ',test_acc)"
   ]
  },
  {
   "cell_type": "code",
   "execution_count": 21,
   "metadata": {},
   "outputs": [],
   "source": [
    "x_val = X_train[:200]\n",
    "partial_x_train = X_train[200:]\n",
    "\n",
    "y_val = y_train[:200]\n",
    "partial_y_train = y_train[200:]"
   ]
  },
  {
   "cell_type": "code",
   "execution_count": 22,
   "metadata": {
    "scrolled": true
   },
   "outputs": [
    {
     "output_type": "stream",
     "name": "stdout",
     "text": [
      "Epoch 1/30\n",
      "2/2 [==============================] - 0s 59ms/step - loss: 2.2912 - accuracy: 0.1250 - val_loss: 2.1429 - val_accuracy: 0.2450\n",
      "Epoch 2/30\n",
      "2/2 [==============================] - 0s 9ms/step - loss: 2.0975 - accuracy: 0.2900 - val_loss: 2.0109 - val_accuracy: 0.3200\n",
      "Epoch 3/30\n",
      "2/2 [==============================] - 0s 10ms/step - loss: 1.9520 - accuracy: 0.3533 - val_loss: 1.9002 - val_accuracy: 0.3350\n",
      "Epoch 4/30\n",
      "2/2 [==============================] - 0s 9ms/step - loss: 1.8234 - accuracy: 0.3767 - val_loss: 1.8082 - val_accuracy: 0.3350\n",
      "Epoch 5/30\n",
      "2/2 [==============================] - 0s 10ms/step - loss: 1.7095 - accuracy: 0.4033 - val_loss: 1.7112 - val_accuracy: 0.3500\n",
      "Epoch 6/30\n",
      "2/2 [==============================] - 0s 10ms/step - loss: 1.6003 - accuracy: 0.4417 - val_loss: 1.6227 - val_accuracy: 0.3950\n",
      "Epoch 7/30\n",
      "2/2 [==============================] - 0s 10ms/step - loss: 1.5057 - accuracy: 0.5033 - val_loss: 1.5398 - val_accuracy: 0.4150\n",
      "Epoch 8/30\n",
      "2/2 [==============================] - 0s 10ms/step - loss: 1.4139 - accuracy: 0.5367 - val_loss: 1.4536 - val_accuracy: 0.4850\n",
      "Epoch 9/30\n",
      "2/2 [==============================] - 0s 11ms/step - loss: 1.3221 - accuracy: 0.5567 - val_loss: 1.3898 - val_accuracy: 0.4900\n",
      "Epoch 10/30\n",
      "2/2 [==============================] - 0s 10ms/step - loss: 1.2536 - accuracy: 0.5683 - val_loss: 1.3277 - val_accuracy: 0.5300\n",
      "Epoch 11/30\n",
      "2/2 [==============================] - 0s 10ms/step - loss: 1.1790 - accuracy: 0.6000 - val_loss: 1.2889 - val_accuracy: 0.5300\n",
      "Epoch 12/30\n",
      "2/2 [==============================] - 0s 10ms/step - loss: 1.1188 - accuracy: 0.6200 - val_loss: 1.2650 - val_accuracy: 0.5750\n",
      "Epoch 13/30\n",
      "2/2 [==============================] - 0s 11ms/step - loss: 1.0755 - accuracy: 0.6417 - val_loss: 1.2260 - val_accuracy: 0.5900\n",
      "Epoch 14/30\n",
      "2/2 [==============================] - 0s 10ms/step - loss: 1.0125 - accuracy: 0.6783 - val_loss: 1.2442 - val_accuracy: 0.5800\n",
      "Epoch 15/30\n",
      "2/2 [==============================] - 0s 10ms/step - loss: 0.9918 - accuracy: 0.6567 - val_loss: 1.2181 - val_accuracy: 0.5800\n",
      "Epoch 16/30\n",
      "2/2 [==============================] - 0s 11ms/step - loss: 0.9406 - accuracy: 0.6817 - val_loss: 1.1725 - val_accuracy: 0.5900\n",
      "Epoch 17/30\n",
      "2/2 [==============================] - 0s 10ms/step - loss: 0.9099 - accuracy: 0.7033 - val_loss: 1.1495 - val_accuracy: 0.6100\n",
      "Epoch 18/30\n",
      "2/2 [==============================] - 0s 10ms/step - loss: 0.8844 - accuracy: 0.7167 - val_loss: 1.1346 - val_accuracy: 0.6000\n",
      "Epoch 19/30\n",
      "2/2 [==============================] - 0s 10ms/step - loss: 0.8272 - accuracy: 0.7250 - val_loss: 1.1720 - val_accuracy: 0.6050\n",
      "Epoch 20/30\n",
      "2/2 [==============================] - 0s 10ms/step - loss: 0.8197 - accuracy: 0.7133 - val_loss: 1.1388 - val_accuracy: 0.6150\n",
      "Epoch 21/30\n",
      "2/2 [==============================] - 0s 10ms/step - loss: 0.7634 - accuracy: 0.7517 - val_loss: 1.1271 - val_accuracy: 0.6050\n",
      "Epoch 22/30\n",
      "2/2 [==============================] - 0s 10ms/step - loss: 0.7523 - accuracy: 0.7617 - val_loss: 1.0868 - val_accuracy: 0.6350\n",
      "Epoch 23/30\n",
      "2/2 [==============================] - 0s 11ms/step - loss: 0.7060 - accuracy: 0.7750 - val_loss: 1.0986 - val_accuracy: 0.6500\n",
      "Epoch 24/30\n",
      "2/2 [==============================] - 0s 10ms/step - loss: 0.6838 - accuracy: 0.7950 - val_loss: 1.1393 - val_accuracy: 0.6350\n",
      "Epoch 25/30\n",
      "2/2 [==============================] - 0s 10ms/step - loss: 0.6604 - accuracy: 0.8000 - val_loss: 1.1496 - val_accuracy: 0.6100\n",
      "Epoch 26/30\n",
      "2/2 [==============================] - 0s 10ms/step - loss: 0.6341 - accuracy: 0.8050 - val_loss: 1.1071 - val_accuracy: 0.6250\n",
      "Epoch 27/30\n",
      "2/2 [==============================] - 0s 10ms/step - loss: 0.6026 - accuracy: 0.8150 - val_loss: 1.0964 - val_accuracy: 0.6300\n",
      "Epoch 28/30\n",
      "2/2 [==============================] - 0s 11ms/step - loss: 0.5825 - accuracy: 0.8217 - val_loss: 1.0998 - val_accuracy: 0.6650\n",
      "Epoch 29/30\n",
      "2/2 [==============================] - 0s 11ms/step - loss: 0.5553 - accuracy: 0.8367 - val_loss: 1.1340 - val_accuracy: 0.6150\n",
      "Epoch 30/30\n",
      "2/2 [==============================] - 0s 11ms/step - loss: 0.5492 - accuracy: 0.8283 - val_loss: 1.0922 - val_accuracy: 0.6350\n",
      "7/7 [==============================] - 0s 949us/step - loss: 1.1047 - accuracy: 0.6450\n"
     ]
    }
   ],
   "source": [
    "\n",
    "model = models.Sequential()\n",
    "model.add(layers.Dense(512, activation='relu', input_shape=(X_train.shape[1],)))\n",
    "model.add(layers.Dense(256, activation='relu'))\n",
    "model.add(layers.Dense(128, activation='relu'))\n",
    "model.add(layers.Dense(64, activation='relu'))\n",
    "model.add(layers.Dense(10, activation='softmax'))\n",
    "\n",
    "model.compile(optimizer='adam',\n",
    "              loss='sparse_categorical_crossentropy',\n",
    "              metrics=['accuracy'])\n",
    "\n",
    "model.fit(partial_x_train,\n",
    "          partial_y_train,\n",
    "          epochs=30,\n",
    "          batch_size=512,\n",
    "          validation_data=(x_val, y_val))\n",
    "results = model.evaluate(X_test, y_test)"
   ]
  },
  {
   "cell_type": "code",
   "execution_count": 23,
   "metadata": {},
   "outputs": [
    {
     "output_type": "execute_result",
     "data": {
      "text/plain": [
       "[1.1047197580337524, 0.6449999809265137]"
      ]
     },
     "metadata": {},
     "execution_count": 23
    }
   ],
   "source": [
    "results"
   ]
  },
  {
   "cell_type": "code",
   "execution_count": 24,
   "metadata": {},
   "outputs": [],
   "source": [
    "predictions = model.predict(X_test)"
   ]
  },
  {
   "cell_type": "code",
   "execution_count": 25,
   "metadata": {},
   "outputs": [
    {
     "output_type": "execute_result",
     "data": {
      "text/plain": [
       "(10,)"
      ]
     },
     "metadata": {},
     "execution_count": 25
    }
   ],
   "source": [
    "predictions[0].shape"
   ]
  },
  {
   "cell_type": "code",
   "execution_count": 26,
   "metadata": {},
   "outputs": [
    {
     "output_type": "execute_result",
     "data": {
      "text/plain": [
       "1.0"
      ]
     },
     "metadata": {},
     "execution_count": 26
    }
   ],
   "source": [
    "np.sum(predictions[0])"
   ]
  },
  {
   "cell_type": "code",
   "execution_count": 27,
   "metadata": {},
   "outputs": [
    {
     "output_type": "execute_result",
     "data": {
      "text/plain": [
       "4"
      ]
     },
     "metadata": {},
     "execution_count": 27
    }
   ],
   "source": [
    "np.argmax(predictions[0])"
   ]
  },
  {
   "cell_type": "code",
   "execution_count": null,
   "metadata": {},
   "outputs": [],
   "source": []
  },
  {
   "cell_type": "code",
   "execution_count": 28,
   "metadata": {},
   "outputs": [
    {
     "output_type": "error",
     "ename": "ModuleNotFoundError",
     "evalue": "No module named 'flask'",
     "traceback": [
      "\u001b[0;31m---------------------------------------------------------------------------\u001b[0m",
      "\u001b[0;31mModuleNotFoundError\u001b[0m                       Traceback (most recent call last)",
      "\u001b[0;32m<ipython-input-28-37bc45840fc2>\u001b[0m in \u001b[0;36m<module>\u001b[0;34m\u001b[0m\n\u001b[0;32m----> 1\u001b[0;31m \u001b[0;32mfrom\u001b[0m \u001b[0mflask\u001b[0m \u001b[0;32mimport\u001b[0m \u001b[0msend_file\u001b[0m\u001b[0;34m\u001b[0m\u001b[0;34m\u001b[0m\u001b[0m\n\u001b[0m\u001b[1;32m      2\u001b[0m \u001b[0;32mfrom\u001b[0m \u001b[0mflask\u001b[0m \u001b[0;32mimport\u001b[0m \u001b[0mFlask\u001b[0m\u001b[0;34m,\u001b[0m \u001b[0mrequest\u001b[0m\u001b[0;34m\u001b[0m\u001b[0;34m\u001b[0m\u001b[0m\n\u001b[1;32m      3\u001b[0m \u001b[0;32mfrom\u001b[0m \u001b[0mwerkzeug\u001b[0m\u001b[0;34m.\u001b[0m\u001b[0mutils\u001b[0m \u001b[0;32mimport\u001b[0m \u001b[0msecure_filename\u001b[0m\u001b[0;34m\u001b[0m\u001b[0;34m\u001b[0m\u001b[0m\n\u001b[1;32m      4\u001b[0m \u001b[0;34m\u001b[0m\u001b[0m\n\u001b[1;32m      5\u001b[0m \u001b[0;32mimport\u001b[0m \u001b[0mos\u001b[0m\u001b[0;34m\u001b[0m\u001b[0;34m\u001b[0m\u001b[0m\n",
      "\u001b[0;31mModuleNotFoundError\u001b[0m: No module named 'flask'"
     ]
    }
   ],
   "source": [
    "from flask import send_file\n",
    "from flask import Flask, request\n",
    "from werkzeug.utils import secure_filename\n",
    "\n",
    "import os\n",
    "import socket\n",
    "\n",
    "#import requests\n",
    "#\n",
    "#url = \"http://localhost:5000/save\"\n",
    "#\n",
    "#headers = {\n",
    "#    \"Content-Type\": \"audio/wav\",\n",
    "#}\n",
    "#params = {\"uploadType\": \"media\", \"name\": \"test.wav\"}\n",
    "#with open('test.wav', 'rb') as file:\n",
    "#  r = requests.post(url, params=params, headers=headers, data=file)\n",
    "#print(r.text)\n",
    "\n",
    "app = Flask(__name__)\n",
    "\n",
    "# RFC - https://tools.ietf.org/html/rfc3003\n",
    "@app.route('/mp3_download')\n",
    "def mp3_download():\n",
    "    file_name = \"./TwoStepDR_320kbps.mp3\"\n",
    "    return send_file(file_name,\n",
    "                     mimetype='audio/mpeg',\n",
    "                     attachment_filename='mp3_test.mp3',# 다운받아지는 파일 이름. \n",
    "                     as_attachment=True)\n",
    "\n",
    "@app.route(\"/file_download\")\n",
    "def hello():\n",
    "    return '''\n",
    "    <a href=\"/mp3_download\">Click me.</a>\n",
    "    \n",
    "    <form method=\"get\" action=\"mp3_download\">\n",
    "        <button type=\"submit\">Download!</button>\n",
    "    </form>\n",
    "    '''\n",
    "\n",
    "@app.route(\"/upload\")\n",
    "def upload():\n",
    "\t#<form action=\"http://localhost:5000/file_upload\" method=\"POST\"\n",
    "\treturn '''\n",
    "\t<form action=\"/upload_test\" method=\"POST\"\n",
    "\t\t\tenctype=\"multipart/form-data\">\n",
    "\t\t<input type=\"file\" name=\"audio_data\"/>\n",
    "\t\t<input type=\"submit\"/>\n",
    "\t</form>\n",
    "\t'''\n",
    "\n",
    "#@app.route(\"/file_upload\")\n",
    "#def file_upload():\n",
    "#\tif request.method == 'POST':\n",
    "#\t\tf = request.files['file']\n",
    "#\t\tprint(f.filename)\n",
    "#\t\tf.save(secure_filename(f.filename))\n",
    "#\t\treturn 'uploads dir -> file upload success'\n",
    "\n",
    "@app.route(\"/upload_test\", methods=['POST', 'GET'])\n",
    "def upload_test():\n",
    "\tif request.method == \"POST\":\n",
    "\t\tf = request.files['audio_data']\n",
    "\t\tprint(f.filename)\n",
    "\t\tprint(f)\n",
    "\n",
    "\t\t(host, port) = ('localhost', 37373)\n",
    "\t\ts = socket.socket(socket.AF_INET, socket.SOCK_STREAM)\n",
    "\t\ts.connect((host, port))\n",
    "\n",
    "\t\twith open(f.filename, 'rb') as wave_file:\n",
    "\t\t\tfor l in f:\n",
    "\t\t\t\ts.sendall(l)\n",
    "\n",
    "\t\ts.close()\n",
    "\n",
    "\t\t#with open('audio.wav', 'wb') as audio:\n",
    "\t\t#\tf.save(audio)\n",
    "\t\tprint('file upload Success')\n",
    "\n",
    "#@app.route(\"/upload_test\", methods=['POST', 'GET'])\n",
    "#def index():\n",
    "#    if request.method == \"POST\":\n",
    "#        f = request.files['audio_data']\n",
    "#\t\twith open('audio.wav', 'wb') as audio:\n",
    "#            f.save(audio)\n",
    "#        print('file uploaded successfully')\n",
    "#    else:\n",
    "#        print('file uploaded failure')\n",
    "\n",
    "if __name__ == '__main__':\n",
    "\tapp.run(debug=True)\n"
   ]
  }
 ],
 "metadata": {
  "kernelspec": {
   "name": "Python 3.8.5 64-bit",
   "display_name": "Python 3.8.5 64-bit",
   "metadata": {
    "interpreter": {
     "hash": "1ee38ef4a5a9feb55287fd749643f13d043cb0a7addaab2a9c224cbe137c0062"
    }
   }
  },
  "language_info": {
   "codemirror_mode": {
    "name": "ipython",
    "version": 3
   },
   "file_extension": ".py",
   "mimetype": "text/x-python",
   "name": "python",
   "nbconvert_exporter": "python",
   "pygments_lexer": "ipython3",
   "version": "3.8.5-final"
  }
 },
 "nbformat": 4,
 "nbformat_minor": 4
}