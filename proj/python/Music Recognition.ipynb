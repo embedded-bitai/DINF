{
 "cells": [
  {
   "cell_type": "code",
   "execution_count": 1,
   "metadata": {},
   "outputs": [],
   "source": [
    "# feature extractoring and preprocessing data\n",
    "import librosa\n",
    "import pandas as pd\n",
    "import numpy as np\n",
    "import matplotlib.pyplot as plt\n",
    "%matplotlib inline\n",
    "import os\n",
    "from PIL import Image\n",
    "import pathlib\n",
    "import csv\n",
    "\n",
    "# Preprocessing\n",
    "from sklearn.model_selection import train_test_split\n",
    "from sklearn.preprocessing import LabelEncoder, StandardScaler\n",
    "from sklearn.metrics import mean_squared_error\n",
    "\n",
    "#Keras\n",
    "import keras\n",
    "\n",
    "import warnings\n",
    "warnings.filterwarnings('ignore')"
   ]
  },
  {
   "cell_type": "code",
   "execution_count": 2,
   "metadata": {},
   "outputs": [
    {
     "output_type": "display_data",
     "data": {
      "text/plain": "<Figure size 720x720 with 0 Axes>"
     },
     "metadata": {}
    }
   ],
   "source": [
    "cmap = plt.get_cmap('inferno')\n",
    "\n",
    "plt.figure(figsize=(10,10))\n",
    "genres = 'blues classical country disco hiphop jazz metal pop reggae rock'.split()\n",
    "for g in genres:\n",
    "    pathlib.Path(f'img_data/{g}').mkdir(parents=True, exist_ok=True)     \n",
    "    for filename in os.listdir(f'./MIR/genres/{g}'):\n",
    "        songname = f'./MIR/genres/{g}/{filename}'\n",
    "        y, sr = librosa.load(songname, mono=True, duration=5)\n",
    "        plt.specgram(y, NFFT=2048, Fs=2, Fc=0, noverlap=128, cmap=cmap, sides='default', mode='default', scale='dB');\n",
    "        plt.axis('off');\n",
    "        plt.savefig(f'img_data/{g}/{filename[:-3].replace(\".\", \"\")}.png')\n",
    "        plt.clf()"
   ]
  },
  {
   "cell_type": "code",
   "execution_count": 3,
   "metadata": {},
   "outputs": [],
   "source": [
    "header = 'filename chroma_stft rmse spectral_centroid spectral_bandwidth rolloff zero_crossing_rate'\n",
    "for i in range(1, 21):\n",
    "    header += f' mfcc{i}'\n",
    "header += ' label'\n",
    "header = header.split()"
   ]
  },
  {
   "cell_type": "code",
   "execution_count": 4,
   "metadata": {},
   "outputs": [],
   "source": [
    "file = open('data.csv', 'w', newline='')\n",
    "with file:\n",
    "    writer = csv.writer(file)\n",
    "    writer.writerow(header)\n",
    "genres = 'blues classical country disco hiphop jazz metal pop reggae rock'.split()\n",
    "for g in genres:\n",
    "    for filename in os.listdir(f'./MIR/genres/{g}'):\n",
    "        songname = f'./MIR/genres/{g}/{filename}'\n",
    "        y, sr = librosa.load(songname, mono=True, duration=30)\n",
    "        chroma_stft = librosa.feature.chroma_stft(y=y, sr=sr)\n",
    "        spec_cent = librosa.feature.spectral_centroid(y=y, sr=sr)\n",
    "        spec_bw = librosa.feature.spectral_bandwidth(y=y, sr=sr)\n",
    "        rolloff = librosa.feature.spectral_rolloff(y=y, sr=sr)\n",
    "        zcr = librosa.feature.zero_crossing_rate(y)\n",
    "        mfcc = librosa.feature.mfcc(y=y, sr=sr)\n",
    "        #rmse = mean_squared_error(y, y_pred=sr)**0.5\n",
    "        rmse = librosa.feature.rms(y=y)\n",
    "        to_append = f'{filename} {np.mean(chroma_stft)} {np.mean(rmse)} {np.mean(spec_cent)} {np.mean(spec_bw)} {np.mean(rolloff)} {np.mean(zcr)}'    \n",
    "        for e in mfcc:\n",
    "            to_append += f' {np.mean(e)}'\n",
    "        to_append += f' {g}'\n",
    "        file = open('data.csv', 'a', newline='')\n",
    "        with file:\n",
    "            writer = csv.writer(file)\n",
    "            writer.writerow(to_append.split())"
   ]
  },
  {
   "cell_type": "code",
   "execution_count": 5,
   "metadata": {},
   "outputs": [
    {
     "output_type": "execute_result",
     "data": {
      "text/plain": [
       "          filename  chroma_stft      rmse  spectral_centroid  \\\n",
       "0  blues.00093.wav     0.377690  0.065906         569.930721   \n",
       "1  blues.00087.wav     0.336773  0.158098        1442.190271   \n",
       "2  blues.00050.wav     0.400860  0.182380        1945.848425   \n",
       "3  blues.00044.wav     0.390212  0.136276        2279.124558   \n",
       "4  blues.00078.wav     0.414188  0.258052        2333.685108   \n",
       "\n",
       "   spectral_bandwidth      rolloff  zero_crossing_rate       mfcc1  \\\n",
       "0          995.407125   927.427725            0.021701 -350.436188   \n",
       "1         1870.534155  3083.414688            0.050889 -155.504929   \n",
       "2         2082.246626  4175.874749            0.085806  -82.979019   \n",
       "3         2375.102120  5198.360233            0.092570 -109.509285   \n",
       "4         2227.425609  4942.811778            0.123863   -2.524338   \n",
       "\n",
       "        mfcc2      mfcc3  ...     mfcc12     mfcc13    mfcc14     mfcc15  \\\n",
       "0  169.545746  31.820370  ...   1.821690  -5.970891 -5.259567  -0.229211   \n",
       "1  125.638863   1.596553  ...  -0.792893  -7.748057  0.413548  -7.030263   \n",
       "2  107.052124 -25.320452  ...  12.539581  -9.762303  2.562253  -6.300853   \n",
       "3   86.922409  -8.607986  ...  11.087481  -5.085794  3.976360 -12.859742   \n",
       "4  101.252716 -33.924385  ...  12.506608 -13.368822  6.112817  -9.065890   \n",
       "\n",
       "      mfcc16     mfcc17    mfcc18    mfcc19    mfcc20  label  \n",
       "0  -1.776850  -3.713751  0.181591  2.072390 -2.896225  blues  \n",
       "1   3.997679  -6.256611  0.958227  2.019821 -5.742188  blues  \n",
       "2   2.996785  -8.718455 -0.326581 -2.980347  0.712600  blues  \n",
       "3  12.343859   0.026216 -0.741568 -5.126620  3.303442  blues  \n",
       "4   5.033774 -11.330277  3.166534 -4.567591 -4.033623  blues  \n",
       "\n",
       "[5 rows x 28 columns]"
      ],
      "text/html": "<div>\n<style scoped>\n    .dataframe tbody tr th:only-of-type {\n        vertical-align: middle;\n    }\n\n    .dataframe tbody tr th {\n        vertical-align: top;\n    }\n\n    .dataframe thead th {\n        text-align: right;\n    }\n</style>\n<table border=\"1\" class=\"dataframe\">\n  <thead>\n    <tr style=\"text-align: right;\">\n      <th></th>\n      <th>filename</th>\n      <th>chroma_stft</th>\n      <th>rmse</th>\n      <th>spectral_centroid</th>\n      <th>spectral_bandwidth</th>\n      <th>rolloff</th>\n      <th>zero_crossing_rate</th>\n      <th>mfcc1</th>\n      <th>mfcc2</th>\n      <th>mfcc3</th>\n      <th>...</th>\n      <th>mfcc12</th>\n      <th>mfcc13</th>\n      <th>mfcc14</th>\n      <th>mfcc15</th>\n      <th>mfcc16</th>\n      <th>mfcc17</th>\n      <th>mfcc18</th>\n      <th>mfcc19</th>\n      <th>mfcc20</th>\n      <th>label</th>\n    </tr>\n  </thead>\n  <tbody>\n    <tr>\n      <th>0</th>\n      <td>blues.00093.wav</td>\n      <td>0.377690</td>\n      <td>0.065906</td>\n      <td>569.930721</td>\n      <td>995.407125</td>\n      <td>927.427725</td>\n      <td>0.021701</td>\n      <td>-350.436188</td>\n      <td>169.545746</td>\n      <td>31.820370</td>\n      <td>...</td>\n      <td>1.821690</td>\n      <td>-5.970891</td>\n      <td>-5.259567</td>\n      <td>-0.229211</td>\n      <td>-1.776850</td>\n      <td>-3.713751</td>\n      <td>0.181591</td>\n      <td>2.072390</td>\n      <td>-2.896225</td>\n      <td>blues</td>\n    </tr>\n    <tr>\n      <th>1</th>\n      <td>blues.00087.wav</td>\n      <td>0.336773</td>\n      <td>0.158098</td>\n      <td>1442.190271</td>\n      <td>1870.534155</td>\n      <td>3083.414688</td>\n      <td>0.050889</td>\n      <td>-155.504929</td>\n      <td>125.638863</td>\n      <td>1.596553</td>\n      <td>...</td>\n      <td>-0.792893</td>\n      <td>-7.748057</td>\n      <td>0.413548</td>\n      <td>-7.030263</td>\n      <td>3.997679</td>\n      <td>-6.256611</td>\n      <td>0.958227</td>\n      <td>2.019821</td>\n      <td>-5.742188</td>\n      <td>blues</td>\n    </tr>\n    <tr>\n      <th>2</th>\n      <td>blues.00050.wav</td>\n      <td>0.400860</td>\n      <td>0.182380</td>\n      <td>1945.848425</td>\n      <td>2082.246626</td>\n      <td>4175.874749</td>\n      <td>0.085806</td>\n      <td>-82.979019</td>\n      <td>107.052124</td>\n      <td>-25.320452</td>\n      <td>...</td>\n      <td>12.539581</td>\n      <td>-9.762303</td>\n      <td>2.562253</td>\n      <td>-6.300853</td>\n      <td>2.996785</td>\n      <td>-8.718455</td>\n      <td>-0.326581</td>\n      <td>-2.980347</td>\n      <td>0.712600</td>\n      <td>blues</td>\n    </tr>\n    <tr>\n      <th>3</th>\n      <td>blues.00044.wav</td>\n      <td>0.390212</td>\n      <td>0.136276</td>\n      <td>2279.124558</td>\n      <td>2375.102120</td>\n      <td>5198.360233</td>\n      <td>0.092570</td>\n      <td>-109.509285</td>\n      <td>86.922409</td>\n      <td>-8.607986</td>\n      <td>...</td>\n      <td>11.087481</td>\n      <td>-5.085794</td>\n      <td>3.976360</td>\n      <td>-12.859742</td>\n      <td>12.343859</td>\n      <td>0.026216</td>\n      <td>-0.741568</td>\n      <td>-5.126620</td>\n      <td>3.303442</td>\n      <td>blues</td>\n    </tr>\n    <tr>\n      <th>4</th>\n      <td>blues.00078.wav</td>\n      <td>0.414188</td>\n      <td>0.258052</td>\n      <td>2333.685108</td>\n      <td>2227.425609</td>\n      <td>4942.811778</td>\n      <td>0.123863</td>\n      <td>-2.524338</td>\n      <td>101.252716</td>\n      <td>-33.924385</td>\n      <td>...</td>\n      <td>12.506608</td>\n      <td>-13.368822</td>\n      <td>6.112817</td>\n      <td>-9.065890</td>\n      <td>5.033774</td>\n      <td>-11.330277</td>\n      <td>3.166534</td>\n      <td>-4.567591</td>\n      <td>-4.033623</td>\n      <td>blues</td>\n    </tr>\n  </tbody>\n</table>\n<p>5 rows × 28 columns</p>\n</div>"
     },
     "metadata": {},
     "execution_count": 5
    }
   ],
   "source": [
    "data = pd.read_csv('data.csv')\n",
    "data.head()"
   ]
  },
  {
   "cell_type": "code",
   "execution_count": 6,
   "metadata": {},
   "outputs": [
    {
     "output_type": "execute_result",
     "data": {
      "text/plain": [
       "(1000, 28)"
      ]
     },
     "metadata": {},
     "execution_count": 6
    }
   ],
   "source": [
    "data.shape"
   ]
  },
  {
   "cell_type": "code",
   "execution_count": 7,
   "metadata": {},
   "outputs": [],
   "source": [
    "# Dropping unneccesary columns\n",
    "data = data.drop(['filename'],axis=1)"
   ]
  },
  {
   "cell_type": "code",
   "execution_count": 8,
   "metadata": {},
   "outputs": [],
   "source": [
    "genre_list = data.iloc[:, -1]\n",
    "encoder = LabelEncoder()\n",
    "y = encoder.fit_transform(genre_list)"
   ]
  },
  {
   "cell_type": "code",
   "execution_count": 9,
   "metadata": {},
   "outputs": [],
   "source": [
    "scaler = StandardScaler()\n",
    "X = scaler.fit_transform(np.array(data.iloc[:, :-1], dtype = float))"
   ]
  },
  {
   "cell_type": "code",
   "execution_count": 10,
   "metadata": {},
   "outputs": [],
   "source": [
    "X_train, X_test, y_train, y_test = train_test_split(X, y, test_size=0.2)"
   ]
  },
  {
   "cell_type": "code",
   "execution_count": 11,
   "metadata": {},
   "outputs": [
    {
     "output_type": "execute_result",
     "data": {
      "text/plain": [
       "800"
      ]
     },
     "metadata": {},
     "execution_count": 11
    }
   ],
   "source": [
    "len(y_train)"
   ]
  },
  {
   "cell_type": "code",
   "execution_count": 12,
   "metadata": {},
   "outputs": [
    {
     "output_type": "execute_result",
     "data": {
      "text/plain": [
       "200"
      ]
     },
     "metadata": {},
     "execution_count": 12
    }
   ],
   "source": [
    "len(y_test)"
   ]
  },
  {
   "cell_type": "code",
   "execution_count": 13,
   "metadata": {},
   "outputs": [
    {
     "output_type": "execute_result",
     "data": {
      "text/plain": [
       "array([-0.81443786, -1.51414392, -1.18146635, -1.42150444, -1.31829652,\n",
       "       -0.6403677 , -1.38688724,  1.91690394, -0.95086388, -1.0649626 ,\n",
       "       -0.71555865, -1.52585945, -0.58998316, -1.90225691, -0.15705653,\n",
       "       -1.50964074,  0.46353713, -1.55585341,  0.12566707, -1.02457131,\n",
       "        0.09925202, -0.65706693,  0.77509555,  0.35974649,  0.58946277,\n",
       "       -0.44894757])"
      ]
     },
     "metadata": {},
     "execution_count": 13
    }
   ],
   "source": [
    "X_train[10]"
   ]
  },
  {
   "cell_type": "code",
   "execution_count": 14,
   "metadata": {},
   "outputs": [],
   "source": [
    "from keras import models\n",
    "from keras import layers\n",
    "\n",
    "model = models.Sequential()\n",
    "model.add(layers.Dense(256, activation='relu', input_shape=(X_train.shape[1],)))\n",
    "\n",
    "model.add(layers.Dense(128, activation='relu'))\n",
    "\n",
    "model.add(layers.Dense(64, activation='relu'))\n",
    "\n",
    "model.add(layers.Dense(10, activation='softmax'))"
   ]
  },
  {
   "cell_type": "code",
   "execution_count": 15,
   "metadata": {},
   "outputs": [],
   "source": [
    "model.compile(optimizer='adam',\n",
    "              loss='sparse_categorical_crossentropy',\n",
    "              metrics=['accuracy'])"
   ]
  },
  {
   "cell_type": "code",
   "execution_count": 16,
   "metadata": {},
   "outputs": [
    {
     "output_type": "stream",
     "name": "stdout",
     "text": [
      "Epoch 1/20\n",
      "7/7 [==============================] - 0s 2ms/step - loss: 2.2039 - accuracy: 0.2062\n",
      "Epoch 2/20\n",
      "7/7 [==============================] - 0s 2ms/step - loss: 1.8941 - accuracy: 0.3487\n",
      "Epoch 3/20\n",
      "7/7 [==============================] - 0s 2ms/step - loss: 1.6548 - accuracy: 0.4325\n",
      "Epoch 4/20\n",
      "7/7 [==============================] - 0s 2ms/step - loss: 1.4622 - accuracy: 0.4875\n",
      "Epoch 5/20\n",
      "7/7 [==============================] - 0s 2ms/step - loss: 1.3179 - accuracy: 0.5600\n",
      "Epoch 6/20\n",
      "7/7 [==============================] - 0s 2ms/step - loss: 1.2017 - accuracy: 0.6075\n",
      "Epoch 7/20\n",
      "7/7 [==============================] - 0s 2ms/step - loss: 1.1140 - accuracy: 0.6313\n",
      "Epoch 8/20\n",
      "7/7 [==============================] - 0s 2ms/step - loss: 1.0310 - accuracy: 0.6800\n",
      "Epoch 9/20\n",
      "7/7 [==============================] - 0s 1ms/step - loss: 0.9655 - accuracy: 0.6963\n",
      "Epoch 10/20\n",
      "7/7 [==============================] - 0s 1ms/step - loss: 0.9024 - accuracy: 0.7163\n",
      "Epoch 11/20\n",
      "7/7 [==============================] - 0s 1ms/step - loss: 0.8592 - accuracy: 0.7325\n",
      "Epoch 12/20\n",
      "7/7 [==============================] - 0s 2ms/step - loss: 0.8071 - accuracy: 0.7400\n",
      "Epoch 13/20\n",
      "7/7 [==============================] - 0s 2ms/step - loss: 0.7660 - accuracy: 0.7688\n",
      "Epoch 14/20\n",
      "7/7 [==============================] - 0s 2ms/step - loss: 0.7473 - accuracy: 0.7688\n",
      "Epoch 15/20\n",
      "7/7 [==============================] - 0s 2ms/step - loss: 0.6950 - accuracy: 0.7812\n",
      "Epoch 16/20\n",
      "7/7 [==============================] - 0s 2ms/step - loss: 0.6629 - accuracy: 0.7962\n",
      "Epoch 17/20\n",
      "7/7 [==============================] - 0s 2ms/step - loss: 0.6319 - accuracy: 0.7975\n",
      "Epoch 18/20\n",
      "7/7 [==============================] - 0s 2ms/step - loss: 0.6009 - accuracy: 0.8112\n",
      "Epoch 19/20\n",
      "7/7 [==============================] - 0s 2ms/step - loss: 0.5708 - accuracy: 0.8112\n",
      "Epoch 20/20\n",
      "7/7 [==============================] - 0s 2ms/step - loss: 0.5449 - accuracy: 0.8413\n"
     ]
    }
   ],
   "source": [
    "history = model.fit(X_train,\n",
    "                    y_train,\n",
    "                    epochs=20,\n",
    "                    batch_size=128)"
   ]
  },
  {
   "cell_type": "code",
   "execution_count": 17,
   "metadata": {},
   "outputs": [
    {
     "output_type": "stream",
     "name": "stdout",
     "text": [
      "7/7 [==============================] - 0s 1ms/step - loss: 0.9565 - accuracy: 0.6700\n"
     ]
    }
   ],
   "source": [
    "test_loss, test_acc = model.evaluate(X_test,y_test)"
   ]
  },
  {
   "cell_type": "code",
   "execution_count": 18,
   "metadata": {},
   "outputs": [
    {
     "output_type": "stream",
     "name": "stdout",
     "text": [
      "test_acc:  0.6700000166893005\n"
     ]
    }
   ],
   "source": [
    "print('test_acc: ',test_acc)"
   ]
  },
  {
   "cell_type": "code",
   "execution_count": 19,
   "metadata": {},
   "outputs": [],
   "source": [
    "x_val = X_train[:200]\n",
    "partial_x_train = X_train[200:]\n",
    "\n",
    "y_val = y_train[:200]\n",
    "partial_y_train = y_train[200:]"
   ]
  },
  {
   "cell_type": "code",
   "execution_count": 20,
   "metadata": {},
   "outputs": [
    {
     "output_type": "stream",
     "name": "stdout",
     "text": [
      "Epoch 1/30\n",
      "2/2 [==============================] - 0s 69ms/step - loss: 2.2869 - accuracy: 0.1167 - val_loss: 2.1349 - val_accuracy: 0.3550\n",
      "Epoch 2/30\n",
      "2/2 [==============================] - 0s 11ms/step - loss: 2.1138 - accuracy: 0.3500 - val_loss: 2.0000 - val_accuracy: 0.3450\n",
      "Epoch 3/30\n",
      "2/2 [==============================] - 0s 12ms/step - loss: 1.9616 - accuracy: 0.3583 - val_loss: 1.8658 - val_accuracy: 0.3350\n",
      "Epoch 4/30\n",
      "2/2 [==============================] - 0s 13ms/step - loss: 1.8106 - accuracy: 0.3600 - val_loss: 1.7442 - val_accuracy: 0.3600\n",
      "Epoch 5/30\n",
      "2/2 [==============================] - 0s 12ms/step - loss: 1.6827 - accuracy: 0.3817 - val_loss: 1.6113 - val_accuracy: 0.3700\n",
      "Epoch 6/30\n",
      "2/2 [==============================] - 0s 12ms/step - loss: 1.5581 - accuracy: 0.4100 - val_loss: 1.4822 - val_accuracy: 0.4550\n",
      "Epoch 7/30\n",
      "2/2 [==============================] - 0s 12ms/step - loss: 1.4415 - accuracy: 0.4900 - val_loss: 1.3816 - val_accuracy: 0.5000\n",
      "Epoch 8/30\n",
      "2/2 [==============================] - 0s 13ms/step - loss: 1.3394 - accuracy: 0.5550 - val_loss: 1.3003 - val_accuracy: 0.5250\n",
      "Epoch 9/30\n",
      "2/2 [==============================] - 0s 13ms/step - loss: 1.2499 - accuracy: 0.5750 - val_loss: 1.2500 - val_accuracy: 0.5450\n",
      "Epoch 10/30\n",
      "2/2 [==============================] - 0s 12ms/step - loss: 1.1860 - accuracy: 0.5967 - val_loss: 1.2085 - val_accuracy: 0.5650\n",
      "Epoch 11/30\n",
      "2/2 [==============================] - 0s 12ms/step - loss: 1.1139 - accuracy: 0.6367 - val_loss: 1.1718 - val_accuracy: 0.5750\n",
      "Epoch 12/30\n",
      "2/2 [==============================] - 0s 12ms/step - loss: 1.0538 - accuracy: 0.6383 - val_loss: 1.1550 - val_accuracy: 0.5900\n",
      "Epoch 13/30\n",
      "2/2 [==============================] - 0s 13ms/step - loss: 1.0160 - accuracy: 0.6317 - val_loss: 1.1591 - val_accuracy: 0.5850\n",
      "Epoch 14/30\n",
      "2/2 [==============================] - 0s 13ms/step - loss: 0.9716 - accuracy: 0.6750 - val_loss: 1.1523 - val_accuracy: 0.5800\n",
      "Epoch 15/30\n",
      "2/2 [==============================] - 0s 15ms/step - loss: 0.9346 - accuracy: 0.6833 - val_loss: 1.0995 - val_accuracy: 0.5800\n",
      "Epoch 16/30\n",
      "2/2 [==============================] - 0s 13ms/step - loss: 0.9030 - accuracy: 0.6900 - val_loss: 1.0828 - val_accuracy: 0.5950\n",
      "Epoch 17/30\n",
      "2/2 [==============================] - 0s 12ms/step - loss: 0.8689 - accuracy: 0.7033 - val_loss: 1.0544 - val_accuracy: 0.6300\n",
      "Epoch 18/30\n",
      "2/2 [==============================] - 0s 13ms/step - loss: 0.8106 - accuracy: 0.7383 - val_loss: 1.0758 - val_accuracy: 0.6200\n",
      "Epoch 19/30\n",
      "2/2 [==============================] - 0s 13ms/step - loss: 0.8197 - accuracy: 0.7100 - val_loss: 1.0849 - val_accuracy: 0.6000\n",
      "Epoch 20/30\n",
      "2/2 [==============================] - 0s 15ms/step - loss: 0.7633 - accuracy: 0.7483 - val_loss: 1.0661 - val_accuracy: 0.6150\n",
      "Epoch 21/30\n",
      "2/2 [==============================] - 0s 14ms/step - loss: 0.7452 - accuracy: 0.7650 - val_loss: 1.0153 - val_accuracy: 0.6600\n",
      "Epoch 22/30\n",
      "2/2 [==============================] - 0s 13ms/step - loss: 0.6957 - accuracy: 0.7867 - val_loss: 1.0447 - val_accuracy: 0.6250\n",
      "Epoch 23/30\n",
      "2/2 [==============================] - 0s 12ms/step - loss: 0.6915 - accuracy: 0.7817 - val_loss: 1.0811 - val_accuracy: 0.6350\n",
      "Epoch 24/30\n",
      "2/2 [==============================] - 0s 12ms/step - loss: 0.6586 - accuracy: 0.7950 - val_loss: 1.0888 - val_accuracy: 0.6250\n",
      "Epoch 25/30\n",
      "2/2 [==============================] - 0s 12ms/step - loss: 0.6466 - accuracy: 0.7950 - val_loss: 1.0184 - val_accuracy: 0.6450\n",
      "Epoch 26/30\n",
      "2/2 [==============================] - 0s 12ms/step - loss: 0.6094 - accuracy: 0.8033 - val_loss: 0.9969 - val_accuracy: 0.6550\n",
      "Epoch 27/30\n",
      "2/2 [==============================] - 0s 13ms/step - loss: 0.5991 - accuracy: 0.8083 - val_loss: 1.0181 - val_accuracy: 0.6150\n",
      "Epoch 28/30\n",
      "2/2 [==============================] - 0s 13ms/step - loss: 0.5779 - accuracy: 0.8317 - val_loss: 1.0132 - val_accuracy: 0.6650\n",
      "Epoch 29/30\n",
      "2/2 [==============================] - 0s 12ms/step - loss: 0.5338 - accuracy: 0.8433 - val_loss: 1.0639 - val_accuracy: 0.6500\n",
      "Epoch 30/30\n",
      "2/2 [==============================] - 0s 12ms/step - loss: 0.5409 - accuracy: 0.8333 - val_loss: 1.0183 - val_accuracy: 0.6450\n",
      "7/7 [==============================] - 0s 999us/step - loss: 0.9714 - accuracy: 0.6350\n"
     ]
    }
   ],
   "source": [
    "\n",
    "model = models.Sequential()\n",
    "model.add(layers.Dense(512, activation='relu', input_shape=(X_train.shape[1],)))\n",
    "model.add(layers.Dense(256, activation='relu'))\n",
    "model.add(layers.Dense(128, activation='relu'))\n",
    "model.add(layers.Dense(64, activation='relu'))\n",
    "model.add(layers.Dense(10, activation='softmax'))\n",
    "\n",
    "model.compile(optimizer='adam',\n",
    "              loss='sparse_categorical_crossentropy',\n",
    "              metrics=['accuracy'])\n",
    "\n",
    "model.fit(partial_x_train,\n",
    "          partial_y_train,\n",
    "          epochs=30,\n",
    "          batch_size=512,\n",
    "          validation_data=(x_val, y_val))\n",
    "results = model.evaluate(X_test, y_test)"
   ]
  },
  {
   "cell_type": "code",
   "execution_count": 21,
   "metadata": {},
   "outputs": [
    {
     "output_type": "execute_result",
     "data": {
      "text/plain": [
       "[0.9713917374610901, 0.6349999904632568]"
      ]
     },
     "metadata": {},
     "execution_count": 21
    }
   ],
   "source": [
    "results"
   ]
  },
  {
   "cell_type": "code",
   "execution_count": 22,
   "metadata": {},
   "outputs": [],
   "source": [
    "predictions = model.predict(X_test)"
   ]
  },
  {
   "cell_type": "code",
   "execution_count": 23,
   "metadata": {},
   "outputs": [
    {
     "output_type": "execute_result",
     "data": {
      "text/plain": [
       "(10,)"
      ]
     },
     "metadata": {},
     "execution_count": 23
    }
   ],
   "source": [
    "predictions[0].shape"
   ]
  },
  {
   "cell_type": "code",
   "execution_count": 24,
   "metadata": {},
   "outputs": [
    {
     "output_type": "execute_result",
     "data": {
      "text/plain": [
       "1.0"
      ]
     },
     "metadata": {},
     "execution_count": 24
    }
   ],
   "source": [
    "np.sum(predictions[0])"
   ]
  },
  {
   "cell_type": "code",
   "execution_count": 25,
   "metadata": {},
   "outputs": [
    {
     "output_type": "execute_result",
     "data": {
      "text/plain": [
       "2"
      ]
     },
     "metadata": {},
     "execution_count": 25
    }
   ],
   "source": [
    "np.argmax(predictions[0])"
   ]
  },
  {
   "cell_type": "code",
   "execution_count": null,
   "metadata": {},
   "outputs": [],
   "source": []
  }
 ],
 "metadata": {
  "kernelspec": {
   "name": "Python 3.8.5 64-bit",
   "display_name": "Python 3.8.5 64-bit",
   "metadata": {
    "interpreter": {
     "hash": "1ee38ef4a5a9feb55287fd749643f13d043cb0a7addaab2a9c224cbe137c0062"
    }
   }
  },
  "language_info": {
   "codemirror_mode": {
    "name": "ipython",
    "version": 3
   },
   "file_extension": ".py",
   "mimetype": "text/x-python",
   "name": "python",
   "nbconvert_exporter": "python",
   "pygments_lexer": "ipython3",
   "version": "3.8.5-final"
  }
 },
 "nbformat": 4,
 "nbformat_minor": 4
}