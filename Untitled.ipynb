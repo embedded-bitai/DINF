{
 "cells": [
  {
   "cell_type": "code",
   "execution_count": null,
   "metadata": {},
   "outputs": [
    {
     "name": "stdout",
     "output_type": "stream",
     "text": [
      " * Serving Flask app \"__main__\" (lazy loading)\n",
      " * Environment: production\n",
      "\u001b[31m   WARNING: This is a development server. Do not use it in a production deployment.\u001b[0m\n",
      "\u001b[2m   Use a production WSGI server instead.\u001b[0m\n",
      " * Debug mode: off\n"
     ]
    },
    {
     "name": "stderr",
     "output_type": "stream",
     "text": [
      " * Running on http://127.0.0.1:5000/ (Press CTRL+C to quit)\n",
      "127.0.0.1 - - [10/Nov/2020 14:41:07] \"\u001b[33mPOST / HTTP/1.1\u001b[0m\" 404 -\n",
      "127.0.0.1 - - [10/Nov/2020 14:45:24] \"\u001b[33mPOST / HTTP/1.1\u001b[0m\" 404 -\n",
      "127.0.0.1 - - [10/Nov/2020 14:45:53] \"\u001b[33mGET / HTTP/1.1\u001b[0m\" 404 -\n"
     ]
    }
   ],
   "source": [
    "\n",
    "from flask import Flask, jsonify, request \n",
    "from flask_cors import CORS \n",
    "  \n",
    "app = Flask(__name__) \n",
    "CORS(app) \n",
    "  \n",
    "@app.route('/test', methods =['GET']) \n",
    "def test(): \n",
    "   return jsonify({\"Result\": \"Welcome to GeeksForGeeks\"}) \n",
    "  \n",
    "if __name__ == '__main__': \n",
    "    app.run(debug = False) "
   ]
  },
  {
   "cell_type": "code",
   "execution_count": null,
   "metadata": {},
   "outputs": [],
   "source": []
  }
 ],
 "metadata": {
  "kernelspec": {
   "display_name": "Python 3",
   "language": "python",
   "name": "python3"
  },
  "language_info": {
   "codemirror_mode": {
    "name": "ipython",
    "version": 3
   },
   "file_extension": ".py",
   "mimetype": "text/x-python",
   "name": "python",
   "nbconvert_exporter": "python",
   "pygments_lexer": "ipython3",
   "version": "3.8.5"
  }
 },
 "nbformat": 4,
 "nbformat_minor": 4
}
